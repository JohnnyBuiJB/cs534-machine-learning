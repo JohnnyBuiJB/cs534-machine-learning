{
 "cells": [
  {
   "cell_type": "markdown",
   "metadata": {},
   "source": [
    "# PART I"
   ]
  },
  {
   "cell_type": "markdown",
   "metadata": {},
   "source": [
    "## SETUP"
   ]
  },
  {
   "cell_type": "code",
   "execution_count": 252,
   "metadata": {},
   "outputs": [],
   "source": [
    "import numpy as np\n",
    "import pandas as pd\n",
    "\n",
    "import matplotlib.pyplot as plt\n",
    "plt.rcParams['figure.dpi'] = 300\n",
    "plt.rcParams['savefig.dpi'] = 300\n",
    "plt.style.use('ggplot')\n",
    "plt.rcParams['font.size'] = 12\n",
    "plt.rcParams['axes.titlesize'] = 16\n",
    "plt.rcParams[\"legend.edgecolor\"] = 'black'\n",
    "plt.rcParams[\"legend.fontsize\"] = 13"
   ]
  },
  {
   "cell_type": "markdown",
   "metadata": {},
   "source": [
    "## DATA PROCESSING"
   ]
  },
  {
   "cell_type": "code",
   "execution_count": 253,
   "metadata": {},
   "outputs": [],
   "source": [
    "def normalize(data, column, mu_dict, sigma_dict):\n",
    "    return (data[column] - mu_dict[column])/sigma_dict[column]\n",
    "\n",
    "        \n",
    "def dataProcessing(data, mu_dict, sigma_dict):\n",
    "    data.insert(loc=0, column=\"bias\", value=1)\n",
    "        \n",
    "    # Drop unused features\n",
    "    data = data.drop(columns=[\"id\", \"date\", \"yr_renovated\"])\n",
    "    \n",
    "    for column in data: \n",
    "        if column not in ['bias', 'waterfront', 'price']:\n",
    "            data[column] = normalize(data, column, mu_dict, sigma_dict)\n",
    "    \n",
    "    return data\n",
    "\n",
    "\n",
    "def dateSplit(data):\n",
    "    data['month'] = [int(x.split(\"/\")[0]) for x in data['date'].values] # month\n",
    "    data['day'] = [int(x.split(\"/\")[1]) for x in data['date'].values] # day\n",
    "    data['year'] = [int(x.split(\"/\")[2]) for x in data['date'].values] # year\n",
    "    return data\n",
    "\n",
    "\n",
    "def reno(data):\n",
    "    data['age_since_renovated'] = data.apply(lambda d: ((d[\"year\"] - d[\"yr_built\"]) if (d[\"yr_renovated\"] == 0) \n",
    "                                                        else (d[\"year\"] - d[\"yr_renovated\"])), axis=1)\n",
    "    return data"
   ]
  },
  {
   "cell_type": "code",
   "execution_count": 254,
   "metadata": {},
   "outputs": [],
   "source": [
    "data = pd.read_csv(\"../input/ia1/PA1_train1.csv\")\n",
    "test_data = pd.read_csv(\"../input/ia1/PA1_test1.csv\")\n",
    "\n",
    "# np.random.seed(seed=1)\n",
    "train_mask = np.random.rand(len(data)) < 0.8\n",
    "train_data = pd.DataFrame(data[train_mask])\n",
    "val_data = pd.DataFrame(data[~train_mask])\n",
    "\n",
    "# n_train_data = int(len(data) * 0.8)\n",
    "# train_data = pd.DataFrame(data[:n_train_data])\n",
    "# val_data = pd.DataFrame(data[n_train_data:])\n",
    "\n",
    "# Split date\n",
    "train_data = dateSplit(train_data)\n",
    "val_data = dateSplit(val_data)\n",
    "test_data = dateSplit(test_data)\n",
    "\n",
    "# Age since renovated\n",
    "train_data = reno(train_data)\n",
    "val_data = reno(val_data)\n",
    "test_data = reno(test_data)\n",
    "\n",
    "# Find mu and sigma for train -> put into dict\n",
    "mu_dict = {}\n",
    "sigma_dict = {}\n",
    "\n",
    "for col in train_data.columns.values:\n",
    "    if col not in ['id', 'date']:\n",
    "        mu_dict[col] = train_data[col].mean()\n",
    "        sigma_dict[col] = train_data[col].std()\n",
    "\n",
    "# Finish process data\n",
    "pp_train_data = dataProcessing(train_data, mu_dict, sigma_dict)\n",
    "pp_val_data = dataProcessing(val_data, mu_dict, sigma_dict)\n",
    "pp_test_data = dataProcessing(test_data, mu_dict, sigma_dict)"
   ]
  },
  {
   "cell_type": "code",
   "execution_count": 255,
   "metadata": {},
   "outputs": [
    {
     "data": {
      "text/html": [
       "<div>\n",
       "<style scoped>\n",
       "    .dataframe tbody tr th:only-of-type {\n",
       "        vertical-align: middle;\n",
       "    }\n",
       "\n",
       "    .dataframe tbody tr th {\n",
       "        vertical-align: top;\n",
       "    }\n",
       "\n",
       "    .dataframe thead th {\n",
       "        text-align: right;\n",
       "    }\n",
       "</style>\n",
       "<table border=\"1\" class=\"dataframe\">\n",
       "  <thead>\n",
       "    <tr style=\"text-align: right;\">\n",
       "      <th></th>\n",
       "      <th>bias</th>\n",
       "      <th>bedrooms</th>\n",
       "      <th>bathrooms</th>\n",
       "      <th>sqft_living</th>\n",
       "      <th>sqft_lot</th>\n",
       "      <th>floors</th>\n",
       "      <th>waterfront</th>\n",
       "      <th>view</th>\n",
       "      <th>condition</th>\n",
       "      <th>grade</th>\n",
       "      <th>...</th>\n",
       "      <th>zipcode</th>\n",
       "      <th>lat</th>\n",
       "      <th>long</th>\n",
       "      <th>sqft_living15</th>\n",
       "      <th>sqft_lot15</th>\n",
       "      <th>price</th>\n",
       "      <th>month</th>\n",
       "      <th>day</th>\n",
       "      <th>year</th>\n",
       "      <th>age_since_renovated</th>\n",
       "    </tr>\n",
       "  </thead>\n",
       "  <tbody>\n",
       "    <tr>\n",
       "      <th>0</th>\n",
       "      <td>1</td>\n",
       "      <td>0.695896</td>\n",
       "      <td>0.493046</td>\n",
       "      <td>0.690586</td>\n",
       "      <td>-0.124614</td>\n",
       "      <td>0.918872</td>\n",
       "      <td>0</td>\n",
       "      <td>-0.301018</td>\n",
       "      <td>-0.617555</td>\n",
       "      <td>1.120508</td>\n",
       "      <td>...</td>\n",
       "      <td>-0.086468</td>\n",
       "      <td>0.505154</td>\n",
       "      <td>1.207275</td>\n",
       "      <td>1.045158</td>\n",
       "      <td>-0.073180</td>\n",
       "      <td>5.9495</td>\n",
       "      <td>0.136049</td>\n",
       "      <td>-0.783076</td>\n",
       "      <td>-0.689123</td>\n",
       "      <td>-0.552980</td>\n",
       "    </tr>\n",
       "    <tr>\n",
       "      <th>1</th>\n",
       "      <td>1</td>\n",
       "      <td>-1.538588</td>\n",
       "      <td>0.493046</td>\n",
       "      <td>0.560144</td>\n",
       "      <td>-0.239954</td>\n",
       "      <td>-0.928295</td>\n",
       "      <td>0</td>\n",
       "      <td>-0.301018</td>\n",
       "      <td>2.438657</td>\n",
       "      <td>0.276741</td>\n",
       "      <td>...</td>\n",
       "      <td>0.883597</td>\n",
       "      <td>0.151104</td>\n",
       "      <td>-1.168458</td>\n",
       "      <td>0.382063</td>\n",
       "      <td>-0.270317</td>\n",
       "      <td>6.6500</td>\n",
       "      <td>0.136049</td>\n",
       "      <td>0.259656</td>\n",
       "      <td>-0.689123</td>\n",
       "      <td>1.627466</td>\n",
       "    </tr>\n",
       "    <tr>\n",
       "      <th>2</th>\n",
       "      <td>1</td>\n",
       "      <td>1.813138</td>\n",
       "      <td>-0.483849</td>\n",
       "      <td>-0.472522</td>\n",
       "      <td>-0.286035</td>\n",
       "      <td>-0.004712</td>\n",
       "      <td>0</td>\n",
       "      <td>-0.301018</td>\n",
       "      <td>-0.617555</td>\n",
       "      <td>0.276741</td>\n",
       "      <td>...</td>\n",
       "      <td>1.219389</td>\n",
       "      <td>0.258984</td>\n",
       "      <td>-0.653834</td>\n",
       "      <td>-0.367523</td>\n",
       "      <td>-0.304549</td>\n",
       "      <td>4.4300</td>\n",
       "      <td>0.136049</td>\n",
       "      <td>-1.014795</td>\n",
       "      <td>-0.689123</td>\n",
       "      <td>2.458112</td>\n",
       "    </tr>\n",
       "    <tr>\n",
       "      <th>3</th>\n",
       "      <td>1</td>\n",
       "      <td>0.695896</td>\n",
       "      <td>-0.483849</td>\n",
       "      <td>-0.396431</td>\n",
       "      <td>-0.133968</td>\n",
       "      <td>-0.928295</td>\n",
       "      <td>0</td>\n",
       "      <td>-0.301018</td>\n",
       "      <td>0.910551</td>\n",
       "      <td>0.276741</td>\n",
       "      <td>...</td>\n",
       "      <td>-0.366294</td>\n",
       "      <td>-0.603334</td>\n",
       "      <td>0.410664</td>\n",
       "      <td>-0.482844</td>\n",
       "      <td>-0.074515</td>\n",
       "      <td>3.8000</td>\n",
       "      <td>-0.830726</td>\n",
       "      <td>1.418247</td>\n",
       "      <td>1.450939</td>\n",
       "      <td>0.173835</td>\n",
       "    </tr>\n",
       "    <tr>\n",
       "      <th>4</th>\n",
       "      <td>1</td>\n",
       "      <td>2.930380</td>\n",
       "      <td>0.167414</td>\n",
       "      <td>1.897174</td>\n",
       "      <td>-0.097565</td>\n",
       "      <td>-0.928295</td>\n",
       "      <td>0</td>\n",
       "      <td>2.385583</td>\n",
       "      <td>2.438657</td>\n",
       "      <td>1.120508</td>\n",
       "      <td>...</td>\n",
       "      <td>-1.317704</td>\n",
       "      <td>0.182237</td>\n",
       "      <td>0.706749</td>\n",
       "      <td>0.728026</td>\n",
       "      <td>-0.085469</td>\n",
       "      <td>8.8700</td>\n",
       "      <td>0.780565</td>\n",
       "      <td>-1.362372</td>\n",
       "      <td>-0.689123</td>\n",
       "      <td>0.381497</td>\n",
       "    </tr>\n",
       "  </tbody>\n",
       "</table>\n",
       "<p>5 rows × 23 columns</p>\n",
       "</div>"
      ],
      "text/plain": [
       "   bias  bedrooms  bathrooms  sqft_living  sqft_lot    floors  waterfront  \\\n",
       "0     1  0.695896   0.493046     0.690586 -0.124614  0.918872           0   \n",
       "1     1 -1.538588   0.493046     0.560144 -0.239954 -0.928295           0   \n",
       "2     1  1.813138  -0.483849    -0.472522 -0.286035 -0.004712           0   \n",
       "3     1  0.695896  -0.483849    -0.396431 -0.133968 -0.928295           0   \n",
       "4     1  2.930380   0.167414     1.897174 -0.097565 -0.928295           0   \n",
       "\n",
       "       view  condition     grade  ...   zipcode       lat      long  \\\n",
       "0 -0.301018  -0.617555  1.120508  ... -0.086468  0.505154  1.207275   \n",
       "1 -0.301018   2.438657  0.276741  ...  0.883597  0.151104 -1.168458   \n",
       "2 -0.301018  -0.617555  0.276741  ...  1.219389  0.258984 -0.653834   \n",
       "3 -0.301018   0.910551  0.276741  ... -0.366294 -0.603334  0.410664   \n",
       "4  2.385583   2.438657  1.120508  ... -1.317704  0.182237  0.706749   \n",
       "\n",
       "   sqft_living15  sqft_lot15   price     month       day      year  \\\n",
       "0       1.045158   -0.073180  5.9495  0.136049 -0.783076 -0.689123   \n",
       "1       0.382063   -0.270317  6.6500  0.136049  0.259656 -0.689123   \n",
       "2      -0.367523   -0.304549  4.4300  0.136049 -1.014795 -0.689123   \n",
       "3      -0.482844   -0.074515  3.8000 -0.830726  1.418247  1.450939   \n",
       "4       0.728026   -0.085469  8.8700  0.780565 -1.362372 -0.689123   \n",
       "\n",
       "   age_since_renovated  \n",
       "0            -0.552980  \n",
       "1             1.627466  \n",
       "2             2.458112  \n",
       "3             0.173835  \n",
       "4             0.381497  \n",
       "\n",
       "[5 rows x 23 columns]"
      ]
     },
     "execution_count": 255,
     "metadata": {},
     "output_type": "execute_result"
    }
   ],
   "source": [
    "pp_train_data.head()"
   ]
  },
  {
   "cell_type": "code",
   "execution_count": 256,
   "metadata": {},
   "outputs": [
    {
     "data": {
      "text/plain": [
       "Index(['bias', 'bedrooms', 'bathrooms', 'sqft_living', 'sqft_lot', 'floors',\n",
       "       'waterfront', 'view', 'condition', 'grade', 'sqft_above',\n",
       "       'sqft_basement', 'yr_built', 'zipcode', 'lat', 'long', 'sqft_living15',\n",
       "       'sqft_lot15', 'price', 'month', 'day', 'year', 'age_since_renovated'],\n",
       "      dtype='object')"
      ]
     },
     "execution_count": 256,
     "metadata": {},
     "output_type": "execute_result"
    }
   ],
   "source": [
    "pp_val_data.head()\n",
    "\n",
    "pp_val_data.columns"
   ]
  },
  {
   "cell_type": "code",
   "execution_count": 257,
   "metadata": {},
   "outputs": [
    {
     "data": {
      "text/html": [
       "<div>\n",
       "<style scoped>\n",
       "    .dataframe tbody tr th:only-of-type {\n",
       "        vertical-align: middle;\n",
       "    }\n",
       "\n",
       "    .dataframe tbody tr th {\n",
       "        vertical-align: top;\n",
       "    }\n",
       "\n",
       "    .dataframe thead th {\n",
       "        text-align: right;\n",
       "    }\n",
       "</style>\n",
       "<table border=\"1\" class=\"dataframe\">\n",
       "  <thead>\n",
       "    <tr style=\"text-align: right;\">\n",
       "      <th></th>\n",
       "      <th>bias</th>\n",
       "      <th>bedrooms</th>\n",
       "      <th>bathrooms</th>\n",
       "      <th>sqft_living</th>\n",
       "      <th>sqft_lot</th>\n",
       "      <th>floors</th>\n",
       "      <th>waterfront</th>\n",
       "      <th>view</th>\n",
       "      <th>condition</th>\n",
       "      <th>grade</th>\n",
       "      <th>...</th>\n",
       "      <th>yr_built</th>\n",
       "      <th>zipcode</th>\n",
       "      <th>lat</th>\n",
       "      <th>long</th>\n",
       "      <th>sqft_living15</th>\n",
       "      <th>sqft_lot15</th>\n",
       "      <th>month</th>\n",
       "      <th>day</th>\n",
       "      <th>year</th>\n",
       "      <th>age_since_renovated</th>\n",
       "    </tr>\n",
       "  </thead>\n",
       "  <tbody>\n",
       "    <tr>\n",
       "      <th>0</th>\n",
       "      <td>1</td>\n",
       "      <td>-0.421346</td>\n",
       "      <td>0.167414</td>\n",
       "      <td>0.527533</td>\n",
       "      <td>-0.188298</td>\n",
       "      <td>0.918872</td>\n",
       "      <td>0</td>\n",
       "      <td>-0.301018</td>\n",
       "      <td>-0.617555</td>\n",
       "      <td>-0.567025</td>\n",
       "      <td>...</td>\n",
       "      <td>-0.678178</td>\n",
       "      <td>0.864942</td>\n",
       "      <td>1.167641</td>\n",
       "      <td>-0.745479</td>\n",
       "      <td>-0.439599</td>\n",
       "      <td>-0.179981</td>\n",
       "      <td>1.747340</td>\n",
       "      <td>-0.783076</td>\n",
       "      <td>-0.689123</td>\n",
       "      <td>-0.622201</td>\n",
       "    </tr>\n",
       "    <tr>\n",
       "      <th>1</th>\n",
       "      <td>1</td>\n",
       "      <td>-0.421346</td>\n",
       "      <td>-0.158217</td>\n",
       "      <td>-0.439912</td>\n",
       "      <td>-0.168990</td>\n",
       "      <td>-0.928295</td>\n",
       "      <td>0</td>\n",
       "      <td>-0.301018</td>\n",
       "      <td>-0.617555</td>\n",
       "      <td>0.276741</td>\n",
       "      <td>...</td>\n",
       "      <td>0.542246</td>\n",
       "      <td>-0.086468</td>\n",
       "      <td>0.413203</td>\n",
       "      <td>1.186126</td>\n",
       "      <td>-0.281033</td>\n",
       "      <td>-0.184637</td>\n",
       "      <td>-1.475243</td>\n",
       "      <td>0.259656</td>\n",
       "      <td>1.450939</td>\n",
       "      <td>-0.449150</td>\n",
       "    </tr>\n",
       "    <tr>\n",
       "      <th>2</th>\n",
       "      <td>1</td>\n",
       "      <td>-0.421346</td>\n",
       "      <td>0.493046</td>\n",
       "      <td>1.603680</td>\n",
       "      <td>-0.129453</td>\n",
       "      <td>-0.928295</td>\n",
       "      <td>0</td>\n",
       "      <td>-0.301018</td>\n",
       "      <td>-0.617555</td>\n",
       "      <td>0.276741</td>\n",
       "      <td>...</td>\n",
       "      <td>-0.203568</td>\n",
       "      <td>-1.336359</td>\n",
       "      <td>0.296634</td>\n",
       "      <td>0.481161</td>\n",
       "      <td>0.309987</td>\n",
       "      <td>-0.135960</td>\n",
       "      <td>-0.830726</td>\n",
       "      <td>-1.478231</td>\n",
       "      <td>1.450939</td>\n",
       "      <td>0.312276</td>\n",
       "    </tr>\n",
       "    <tr>\n",
       "      <th>3</th>\n",
       "      <td>1</td>\n",
       "      <td>-1.538588</td>\n",
       "      <td>-1.460743</td>\n",
       "      <td>-1.005160</td>\n",
       "      <td>-0.216914</td>\n",
       "      <td>-0.928295</td>\n",
       "      <td>0</td>\n",
       "      <td>-0.301018</td>\n",
       "      <td>0.910551</td>\n",
       "      <td>-0.567025</td>\n",
       "      <td>...</td>\n",
       "      <td>-0.983283</td>\n",
       "      <td>0.678391</td>\n",
       "      <td>0.943192</td>\n",
       "      <td>-0.555138</td>\n",
       "      <td>-0.958543</td>\n",
       "      <td>-0.236086</td>\n",
       "      <td>-0.508468</td>\n",
       "      <td>1.302388</td>\n",
       "      <td>-0.689123</td>\n",
       "      <td>1.073702</td>\n",
       "    </tr>\n",
       "    <tr>\n",
       "      <th>4</th>\n",
       "      <td>1</td>\n",
       "      <td>-0.421346</td>\n",
       "      <td>-0.158217</td>\n",
       "      <td>-0.211638</td>\n",
       "      <td>-0.031669</td>\n",
       "      <td>0.918872</td>\n",
       "      <td>0</td>\n",
       "      <td>-0.301018</td>\n",
       "      <td>-0.617555</td>\n",
       "      <td>-0.567025</td>\n",
       "      <td>...</td>\n",
       "      <td>0.779550</td>\n",
       "      <td>-1.112498</td>\n",
       "      <td>1.216151</td>\n",
       "      <td>1.771247</td>\n",
       "      <td>-0.151297</td>\n",
       "      <td>0.038379</td>\n",
       "      <td>0.136049</td>\n",
       "      <td>1.765825</td>\n",
       "      <td>-0.689123</td>\n",
       "      <td>-0.726032</td>\n",
       "    </tr>\n",
       "  </tbody>\n",
       "</table>\n",
       "<p>5 rows × 22 columns</p>\n",
       "</div>"
      ],
      "text/plain": [
       "   bias  bedrooms  bathrooms  sqft_living  sqft_lot    floors  waterfront  \\\n",
       "0     1 -0.421346   0.167414     0.527533 -0.188298  0.918872           0   \n",
       "1     1 -0.421346  -0.158217    -0.439912 -0.168990 -0.928295           0   \n",
       "2     1 -0.421346   0.493046     1.603680 -0.129453 -0.928295           0   \n",
       "3     1 -1.538588  -1.460743    -1.005160 -0.216914 -0.928295           0   \n",
       "4     1 -0.421346  -0.158217    -0.211638 -0.031669  0.918872           0   \n",
       "\n",
       "       view  condition     grade  ...  yr_built   zipcode       lat      long  \\\n",
       "0 -0.301018  -0.617555 -0.567025  ... -0.678178  0.864942  1.167641 -0.745479   \n",
       "1 -0.301018  -0.617555  0.276741  ...  0.542246 -0.086468  0.413203  1.186126   \n",
       "2 -0.301018  -0.617555  0.276741  ... -0.203568 -1.336359  0.296634  0.481161   \n",
       "3 -0.301018   0.910551 -0.567025  ... -0.983283  0.678391  0.943192 -0.555138   \n",
       "4 -0.301018  -0.617555 -0.567025  ...  0.779550 -1.112498  1.216151  1.771247   \n",
       "\n",
       "   sqft_living15  sqft_lot15     month       day      year  \\\n",
       "0      -0.439599   -0.179981  1.747340 -0.783076 -0.689123   \n",
       "1      -0.281033   -0.184637 -1.475243  0.259656  1.450939   \n",
       "2       0.309987   -0.135960 -0.830726 -1.478231  1.450939   \n",
       "3      -0.958543   -0.236086 -0.508468  1.302388 -0.689123   \n",
       "4      -0.151297    0.038379  0.136049  1.765825 -0.689123   \n",
       "\n",
       "   age_since_renovated  \n",
       "0            -0.622201  \n",
       "1            -0.449150  \n",
       "2             0.312276  \n",
       "3             1.073702  \n",
       "4            -0.726032  \n",
       "\n",
       "[5 rows x 22 columns]"
      ]
     },
     "execution_count": 257,
     "metadata": {},
     "output_type": "execute_result"
    }
   ],
   "source": [
    "pp_test_data.head()"
   ]
  },
  {
   "cell_type": "code",
   "execution_count": 258,
   "metadata": {},
   "outputs": [
    {
     "data": {
      "text/plain": [
       "Index(['bias', 'bedrooms', 'bathrooms', 'sqft_living', 'sqft_lot', 'floors',\n",
       "       'waterfront', 'view', 'condition', 'grade', 'sqft_above',\n",
       "       'sqft_basement', 'yr_built', 'zipcode', 'lat', 'long', 'sqft_living15',\n",
       "       'sqft_lot15', 'month', 'day', 'year', 'age_since_renovated'],\n",
       "      dtype='object')"
      ]
     },
     "execution_count": 258,
     "metadata": {},
     "output_type": "execute_result"
    }
   ],
   "source": [
    "pp_test_data.columns"
   ]
  },
  {
   "cell_type": "markdown",
   "metadata": {},
   "source": [
    "## DATA EXPLORATION"
   ]
  },
  {
   "cell_type": "markdown",
   "metadata": {},
   "source": [
    "### Feature Correlation (Report Only)"
   ]
  },
  {
   "cell_type": "code",
   "execution_count": 259,
   "metadata": {},
   "outputs": [],
   "source": [
    "import seaborn as sns\n",
    "\n",
    "# Split date\n",
    "pp_data = dateSplit(data)\n",
    "\n",
    "# Age since renovated\n",
    "pp_data = reno(pp_data)\n",
    "\n",
    "pp_data = dataProcessing(pp_data, mu_dict, sigma_dict)\n",
    "\n",
    "corr_matrix = pp_data.corr()\n",
    "# plt.figure(figsize=(14,12))\n",
    "# sns.heatmap(corr_matrix, annot=True, fmt='.2f', cmap='BuPu')\n",
    "# plt.show()\n",
    "\n"
   ]
  },
  {
   "cell_type": "code",
   "execution_count": 260,
   "metadata": {},
   "outputs": [
    {
     "data": {
      "text/plain": [
       "bias                        NaN\n",
       "bedrooms               0.304994\n",
       "bathrooms              0.524480\n",
       "sqft_living            0.693156\n",
       "sqft_lot               0.090327\n",
       "floors                 0.265757\n",
       "waterfront             0.222654\n",
       "view                   0.392961\n",
       "condition              0.051306\n",
       "grade                  0.671957\n",
       "sqft_above             0.605777\n",
       "sqft_basement          0.295117\n",
       "yr_built               0.057532\n",
       "zipcode               -0.048750\n",
       "lat                    0.307248\n",
       "long                   0.025544\n",
       "sqft_living15          0.589190\n",
       "sqft_lot15             0.085476\n",
       "price                  1.000000\n",
       "month                 -0.008468\n",
       "day                   -0.024775\n",
       "year                   0.001692\n",
       "age_since_renovated   -0.099004\n",
       "Name: price, dtype: float64"
      ]
     },
     "execution_count": 260,
     "metadata": {},
     "output_type": "execute_result"
    }
   ],
   "source": [
    "corr_matrix[\"price\"]"
   ]
  },
  {
   "cell_type": "code",
   "execution_count": null,
   "metadata": {},
   "outputs": [],
   "source": []
  },
  {
   "cell_type": "markdown",
   "metadata": {},
   "source": [
    "# MODEL TRAIN"
   ]
  },
  {
   "cell_type": "markdown",
   "metadata": {},
   "source": [
    "## Feature Selection"
   ]
  },
  {
   "cell_type": "code",
   "execution_count": 261,
   "metadata": {},
   "outputs": [
    {
     "data": {
      "text/plain": [
       "<AxesSubplot:ylabel='Frequency'>"
      ]
     },
     "execution_count": 261,
     "metadata": {},
     "output_type": "execute_result"
    },
    {
     "data": {
      "image/png": "[encoded data removed]",
      "text/plain": [
       "<Figure size 1920x1440 with 1 Axes>"
      ]
     },
     "metadata": {},
     "output_type": "display_data"
    }
   ],
   "source": [
    "train_data[\"price\"].plot.hist(bins=200)"
   ]
  },
  {
   "cell_type": "markdown",
   "metadata": {},
   "source": [
    "## Hyperparameter Tuning"
   ]
  },
  {
   "cell_type": "code",
   "execution_count": 262,
   "metadata": {},
   "outputs": [
    {
     "data": {
      "text/plain": [
       "0.9747418190867239"
      ]
     },
     "execution_count": 262,
     "metadata": {},
     "output_type": "execute_result"
    }
   ],
   "source": [
    "pp_train_data.columns\n",
    "\n",
    "len(pp_train_data[pp_train_data[\"price\"] < 14.44]) / len(pp_train_data)\n",
    "\n",
    "# pp_train_data[\"price\"].min()"
   ]
  },
  {
   "cell_type": "code",
   "execution_count": 263,
   "metadata": {},
   "outputs": [
    {
     "name": "stdout",
     "output_type": "stream",
     "text": [
      "Learning rate 1 Diverge at iter #9, magLw = 14072211207.923649\n",
      "Learning rate 0.5 Diverge at iter #14, magLw = 25612170531.410908\n",
      "Learning rate 0.2 Diverge at iter #84, magLw = 12010008244.874027\n",
      "Learning rate 0.3 Diverge at iter #24, magLw = 16603597687.107334\n"
     ]
    }
   ],
   "source": [
    "def fit(X, y, n_iters: int, lr: float, epsilon_low: float, epsilon_high: float):\n",
    "    converge = True\n",
    "    n = X.shape[0]\n",
    "    n_features = X.shape[1]\n",
    "    w = np.zeros(n_features).reshape(n_features,1)\n",
    "    \n",
    "    mse_train = []\n",
    "    \n",
    "    for iter in range(n_iters):\n",
    "        # Rename the product to match y label\n",
    "        y_hat = (X.dot(w)).rename(columns={0: \"price\"})\n",
    "        \n",
    "        grads = 2/n * X.T.dot(y_hat - y)\n",
    "        w = w - lr * grads\n",
    "        \n",
    "        y_pred = (X.dot(w)).rename(columns={0: \"price\"})\n",
    "        mse = float(((y - y_pred) ** 2).sum() / n)\n",
    "        mse_train.append(mse)\n",
    "        \n",
    "        magLw = np.linalg.norm(grads.values)\n",
    "        \n",
    "        # Early stop due to tiny change or diverging\n",
    "        if magLw < epsilon_low:\n",
    "            print(\"Learning rate %s plateau at iter #%d, magLW = %f\" % (str(lr), iter, magLw))\n",
    "            break\n",
    "        \n",
    "        if magLw > epsilon_high:\n",
    "            print(\"Learning rate %s Diverge at iter #%d, magLw = %f\" % (str(lr), iter, magLw))\n",
    "            converge = False\n",
    "            break\n",
    "        \n",
    "    return converge, mse_train, w\n",
    "\n",
    "y_train = pp_train_data[\"price\"].to_frame()\n",
    "# X_train = pp_train_data[pp_train_data[\"price\"] < 14.44]\n",
    "\n",
    "# y_train = y_train[y_train[\"price\"] < 14.44]\n",
    "\n",
    "# Drop unused features\n",
    "features = pp_train_data.columns.drop([\"price\"])\n",
    "# features = pp_train_data.columns.drop([\"price\", \"long\"])\n",
    "n_features = len(features)\n",
    "\n",
    "X_train = pp_train_data[features]\n",
    "\n",
    "X_val = pp_val_data[features]\n",
    "y_val = pp_val_data[\"price\"].to_frame()\n",
    "\n",
    "d_train_mse = {}\n",
    "d_w = {}\n",
    "l_diverge = []\n",
    "\n",
    "# learning_rates = [10**(-1),10**(-2),10**(-3)]\n",
    "# learning_rates = [1, 0.5, 10**(-1)]\n",
    "learning_rates = [1,0.5,0.0025,0.005,0.0075,\n",
    "                  10**(-1),10**(-2),10**(-3),10**(-4),\n",
    "                  0.15, 0.2, 0.3]\n",
    "for lr in learning_rates:\n",
    "    converge, mse_train, w = fit(X_train, y_train, n_iters=4000,\n",
    "                                                lr=lr,\n",
    "                                                epsilon_low=10**(-6), epsilon_high=10**10)\n",
    "    \n",
    "    l_diverge.append(not converge)\n",
    "    d_train_mse[str(lr)] = mse_train\n",
    "    d_w[str(lr)] = w\n"
   ]
  },
  {
   "cell_type": "markdown",
   "metadata": {},
   "source": [
    "## Using scikit-learn"
   ]
  },
  {
   "cell_type": "code",
   "execution_count": 264,
   "metadata": {},
   "outputs": [
    {
     "name": "stdout",
     "output_type": "stream",
     "text": [
      "[[1.87905444]\n",
      " [2.41181249]\n",
      " [3.20600158]\n",
      " ...\n",
      " [3.8822036 ]\n",
      " [1.50852002]\n",
      " [5.65352611]]\n",
      "MSE: 3.33\n",
      "w: [[ 0.         -0.34850262  0.39201262  0.81284526  0.08624078 -0.01272718\n",
      "   4.7549091   0.44051115  0.21581629  1.11091272  0.79415465  0.18719855\n",
      "  -0.90467546 -0.28423702  0.83874876 -0.33963387  0.15001489 -0.12965292\n",
      "   0.06685152 -0.03967618  0.19274656 -0.151206  ]]\n"
     ]
    }
   ],
   "source": [
    "from sklearn.linear_model import LinearRegression\n",
    "from sklearn.metrics import mean_squared_error\n",
    "\n",
    "lin_reg = LinearRegression()\n",
    "lin_reg.fit(X_train, y_train)\n",
    "\n",
    "y_pred = lin_reg.predict(X_val)\n",
    "\n",
    "print(y_pred)\n",
    "len(y_pred)\n",
    "\n",
    "print(\"MSE: %.2f\" % mean_squared_error(y_val, y_pred))\n",
    "print(\"w: \" + str(lin_reg.coef_))\n"
   ]
  },
  {
   "cell_type": "code",
   "execution_count": 265,
   "metadata": {},
   "outputs": [],
   "source": [
    "# X_train[X_train[\"price\"] < 14.44]\n",
    "# X_train\n",
    "# pp_train_data"
   ]
  },
  {
   "cell_type": "code",
   "execution_count": 266,
   "metadata": {},
   "outputs": [
    {
     "name": "stdout",
     "output_type": "stream",
     "text": [
      "Figure 2:\n",
      "\n",
      "Learning Rate: 0.0025, MSE: 3.449158962028451\n",
      "Learning Rate: 0.005, MSE: 3.4314402462124693\n",
      "Learning Rate: 0.0075, MSE: 3.4123099171975095\n",
      "Learning Rate: 0.1, MSE: 3.3317404442182594\n",
      "Learning Rate: 0.01, MSE: 3.3961715524345477\n",
      "Learning Rate: 0.001, MSE: 3.4384604345179812\n",
      "Learning Rate: 0.0001, MSE: 9.691529038657515\n",
      "Learning Rate: 0.15, MSE: 3.3318077457095607\n",
      "Best model has a learning rate of: 0.100000, with MSE = 3.331740\n"
     ]
    }
   ],
   "source": [
    "cur_min = 1000000\n",
    "best_model = \" \"\n",
    "print(\"Figure 2:\\n\")\n",
    "\n",
    "d_val_mse = {}\n",
    "\n",
    "for i, (lr, w) in enumerate(d_w.items()):\n",
    "    if not l_diverge[i]:\n",
    "        y_pred = (X_val.dot(w)).rename(columns={0: \"prices\"})\n",
    "        mse = float(((y_val - y_pred) ** 2).sum() / len(y_val))\n",
    "        print(\"Learning Rate:\", lr + \", MSE:\", mse)\n",
    "        \n",
    "        d_val_mse[str(lr)] = mse\n",
    "        \n",
    "        if mse < cur_min:\n",
    "            cur_min = mse\n",
    "            best_model = lr\n",
    "            \n",
    "print(\"Best model has a learning rate of: %f, with MSE = %f\" % (float(best_model), \n",
    "    d_val_mse[best_model]))\n"
   ]
  },
  {
   "cell_type": "markdown",
   "metadata": {},
   "source": [
    "## Retrain with all data "
   ]
  },
  {
   "cell_type": "code",
   "execution_count": 267,
   "metadata": {},
   "outputs": [],
   "source": [
    "converge, mse_train, w = fit(X_train, y_train, n_iters=4000,\n",
    "                                                lr=float(best_model),\n",
    "                                                epsilon_low=10**(-6), epsilon_high=10**10)"
   ]
  },
  {
   "cell_type": "markdown",
   "metadata": {},
   "source": [
    "# SUBMISSION"
   ]
  },
  {
   "cell_type": "code",
   "execution_count": 268,
   "metadata": {},
   "outputs": [
    {
     "name": "stdout",
     "output_type": "stream",
     "text": [
      "                        price\n",
      "bias                 5.355796\n",
      "bedrooms            -0.348722\n",
      "bathrooms            0.392042\n",
      "sqft_living          0.813036\n",
      "sqft_lot             0.086032\n",
      "floors              -0.012701\n",
      "waterfront           4.694821\n",
      "view                 0.442417\n",
      "condition            0.215878\n",
      "grade                1.110518\n",
      "sqft_above           0.794469\n",
      "sqft_basement        0.186998\n",
      "yr_built            -0.905108\n",
      "zipcode             -0.284303\n",
      "lat                  0.838715\n",
      "long                -0.339790\n",
      "sqft_living15        0.149909\n",
      "sqft_lot15          -0.129502\n",
      "month                0.066869\n",
      "day                 -0.039625\n",
      "year                 0.192715\n",
      "age_since_renovated -0.151654\n"
     ]
    }
   ],
   "source": [
    "X_test = pp_test_data[features]\n",
    "\n",
    "# X_test\n",
    "y_pred = (X_test.dot(w)).rename(columns={0: \"prices\"})\n",
    "\n",
    "print(w)\n",
    "# print(X_test.head())\n",
    "# X_test\n",
    "# type(y_pred[\"price\"])\n",
    "# y_pred\n",
    "my_submission = pd.DataFrame({'Id': test_data.id, 'price': y_pred[\"price\"]})\n",
    "# # you could use any filename. We choose submission here\n",
    "my_submission.to_csv('submission.csv', index=False)"
   ]
  }
 ],
 "metadata": {
  "kernelspec": {
   "display_name": "Python 3.8.5 ('base')",
   "language": "python",
   "name": "python3"
  },
  "language_info": {
   "codemirror_mode": {
    "name": "ipython",
    "version": 3
   },
   "file_extension": ".py",
   "mimetype": "text/x-python",
   "name": "python",
   "nbconvert_exporter": "python",
   "pygments_lexer": "ipython3",
   "version": "3.8.5"
  },
  "vscode": {
   "interpreter": {
    "hash": "15a1e72ba773099527125ed58d42668c54ab9c98f183bb59c28e4748fcdd480d"
   }
  }
 },
 "nbformat": 4,
 "nbformat_minor": 2
}
