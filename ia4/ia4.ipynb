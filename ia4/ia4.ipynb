{
 "cells": [
  {
   "cell_type": "markdown",
   "metadata": {},
   "source": [
    "# Data"
   ]
  },
  {
   "cell_type": "code",
   "execution_count": 1,
   "metadata": {},
   "outputs": [],
   "source": [
    "import numpy as np\n",
    "import pandas as pd\n",
    "import scipy as sp\n",
    "import matplotlib.pyplot as plt\n",
    "\n",
    "# Plot styling\n",
    "plt.rcParams['figure.dpi'] = 200\n",
    "plt.rcParams['savefig.dpi'] = 200\n",
    "plt.style.use('ggplot')\n",
    "plt.rcParams['font.size'] = 10\n",
    "plt.rcParams['axes.titlesize'] = 16\n",
    "plt.rcParams[\"legend.edgecolor\"] = 'black'\n",
    "plt.rcParams[\"legend.fontsize\"] = 11"
   ]
  },
  {
   "cell_type": "markdown",
   "metadata": {},
   "source": [
    "# 1. Explore Word Embeddings"
   ]
  },
  {
   "cell_type": "markdown",
   "metadata": {},
   "source": [
    "### a. Build Your Own Data Set of Words (5pts)"
   ]
  },
  {
   "cell_type": "code",
   "execution_count": 2,
   "metadata": {},
   "outputs": [],
   "source": [
    "from GloVe_Embedder import GloVe_Embedder\n",
    "\n",
    "def buildData():\n",
    "    GV_embedded = GloVe_Embedder(\"GloVe_Embedder_data.txt\")\n",
    "    seed_words = [\"flight\", \"good\", \"terrible\", \"help\", \"late\"]\n",
    "\n",
    "    d150embd = [] # build data set of word vectors\n",
    "    d150wrds = [] # build data set of words (raw)\n",
    "\n",
    "    seed_words_embeddings = GV_embedded.embed_list(seed_words)\n",
    "    clusterNum = 1\n",
    "\n",
    "    for word in seed_words:\n",
    "        embedding = GV_embedded.embed_str(word)\n",
    "        d150embd.append(embedding) # append embedding of words\n",
    "        d150wrds.append([word, int(clusterNum)]) # append word & cluster number (used for graphing)\n",
    "        cluster = GV_embedded.find_k_nearest(embedding, 29)\n",
    "        print(word, \"cluster:\")\n",
    "\n",
    "        for w in cluster:\n",
    "            print(\"\\t\", w[0], w[1])\n",
    "            d150embd.append(GV_embedded.embed_str(w[0])) # append embedding of current words\n",
    "            d150wrds.append([w[0], int(clusterNum)]) # append word & cluster number (used for graphing)\n",
    "        clusterNum += 1\n",
    "        print()\n",
    "\n",
    "    return d150embd, d150wrds"
   ]
  },
  {
   "cell_type": "code",
   "execution_count": 3,
   "metadata": {},
   "outputs": [
    {
     "name": "stdout",
     "output_type": "stream",
     "text": [
      "flight cluster:\n",
      "\t flight 0.0\n",
      "\t plane 4.45689\n",
      "\t flights 5.32675\n",
      "\t boarding 5.4882\n",
      "\t airline 5.58355\n",
      "\t jet 5.59065\n",
      "\t flying 5.59299\n",
      "\t heading 5.6417\n",
      "\t arrival 5.70659\n",
      "\t airlines 5.85213\n",
      "\t travel 5.89098\n",
      "\t shuttle 5.90023\n",
      "\t delayed 5.91624\n",
      "\t landing 5.92666\n",
      "\t route 5.96298\n",
      "\t airplane 6.00258\n",
      "\t safe 6.00877\n",
      "\t booking 6.01374\n",
      "\t fly 6.02409\n",
      "\t departure 6.04052\n",
      "\t waiting 6.04259\n",
      "\t landed 6.09697\n",
      "\t journey 6.12156\n",
      "\t passengers 6.12345\n",
      "\t transit 6.12451\n",
      "\t delay 6.13663\n",
      "\t crew 6.14757\n",
      "\t pilot 6.17311\n",
      "\t trip 6.18669\n",
      "\n",
      "good cluster:\n",
      "\t good 0.0\n",
      "\t great 3.64107\n",
      "\t well 3.96383\n",
      "\t nice 4.00469\n",
      "\t better 4.19665\n",
      "\t night 4.30113\n",
      "\t bad 4.34788\n",
      "\t morning 4.43596\n",
      "\t way 4.52146\n",
      "\t hope 4.54451\n",
      "\t but 4.55671\n",
      "\t too 4.57775\n",
      "\t really 4.60558\n",
      "\t right 4.68877\n",
      "\t though 4.69955\n",
      "\t there 4.70148\n",
      "\t day 4.70444\n",
      "\t luck 4.7177\n",
      "\t sure 4.76147\n",
      "\t it 4.76949\n",
      "\t thing 4.78543\n",
      "\t pretty 4.81795\n",
      "\t think 4.83542\n",
      "\t have 4.84457\n",
      "\t all 4.85276\n",
      "\t yes 4.86179\n",
      "\t very 4.89081\n",
      "\t again 4.9018\n",
      "\t work 4.90492\n",
      "\n",
      "terrible cluster:\n",
      "\t terrible 0.0\n",
      "\t horrible 2.8716\n",
      "\t awful 4.31316\n",
      "\t bad 5.24022\n",
      "\t brutal 5.35858\n",
      "\t idea 5.45579\n",
      "\t horrendous 5.49845\n",
      "\t horrid 5.56903\n",
      "\t shitty 5.58304\n",
      "\t quite 5.59716\n",
      "\t worst 5.631\n",
      "\t similar 5.64538\n",
      "\t shame 5.67322\n",
      "\t worse 5.71411\n",
      "\t crap 5.73043\n",
      "\t actual 5.73712\n",
      "\t horrific 5.78009\n",
      "\t bloody 5.78166\n",
      "\t ridiculous 5.80851\n",
      "\t such 5.82791\n",
      "\t atrocious 5.86491\n",
      "\t dreadful 5.87343\n",
      "\t sick 5.88777\n",
      "\t wtf 5.89628\n",
      "\t fucking 5.9003\n",
      "\t cruel 5.90768\n",
      "\t seriously 5.93984\n",
      "\t unreal 5.94033\n",
      "\t mess 5.97906\n",
      "\n",
      "help cluster:\n",
      "\t help 0.0\n",
      "\t need 4.66871\n",
      "\t helping 4.71355\n",
      "\t please 4.8564\n",
      "\t pls 5.26437\n",
      "\t let 5.27073\n",
      "\t us 5.33329\n",
      "\t give 5.35559\n",
      "\t trying 5.3827\n",
      "\t can 5.39777\n",
      "\t helps 5.40568\n",
      "\t must 5.42209\n",
      "\t tell 5.54717\n",
      "\t find 5.55147\n",
      "\t could 5.5624\n",
      "\t plz 5.58522\n",
      "\t helped 5.62169\n",
      "\t support 5.6628\n",
      "\t anyone 5.68027\n",
      "\t should 5.74155\n",
      "\t save 5.74649\n",
      "\t take 5.75843\n",
      "\t want 5.76772\n",
      "\t bring 5.79499\n",
      "\t maybe 5.80615\n",
      "\t lets 5.81187\n",
      "\t seriously 5.81942\n",
      "\t able 5.81981\n",
      "\t here 5.82526\n",
      "\n",
      "late cluster:\n",
      "\t late 0.0\n",
      "\t early 4.00205\n",
      "\t earlier 5.09402\n",
      "\t usual 5.10465\n",
      "\t after 5.28243\n",
      "\t again 5.28409\n",
      "\t saturday 5.29169\n",
      "\t afternoon 5.30979\n",
      "\t hour 5.31787\n",
      "\t guess 5.33142\n",
      "\t missed 5.36901\n",
      "\t work 5.37432\n",
      "\t hours 5.38573\n",
      "\t sunday 5.40189\n",
      "\t since 5.41431\n",
      "\t night 5.41858\n",
      "\t anyway 5.45233\n",
      "\t yesterday 5.49731\n",
      "\t last 5.49978\n",
      "\t maybe 5.50156\n",
      "\t yet 5.51821\n",
      "\t monday 5.53958\n",
      "\t wait 5.55033\n",
      "\t either 5.55333\n",
      "\t mins 5.56436\n",
      "\t wake 5.59768\n",
      "\t before 5.60765\n",
      "\t thursday 5.61733\n",
      "\t hopefully 5.63757\n",
      "\n"
     ]
    }
   ],
   "source": [
    "d150embd, d150wrds = buildData()"
   ]
  },
  {
   "cell_type": "markdown",
   "metadata": {},
   "source": [
    "### b. Dimension Reduction and Visualization (25pts)"
   ]
  },
  {
   "cell_type": "code",
   "execution_count": 4,
   "metadata": {},
   "outputs": [],
   "source": [
    "from sklearn.decomposition import PCA\n",
    "\n",
    "pca = PCA(n_components=2)\n",
    "X_2d = pca.fit_transform(d150embd)"
   ]
  },
  {
   "cell_type": "markdown",
   "metadata": {},
   "source": [
    "### c. Clustering (20pts)"
   ]
  },
  {
   "cell_type": "code",
   "execution_count": 6,
   "metadata": {},
   "outputs": [
    {
     "ename": "TypeError",
     "evalue": "list indices must be integers or slices, not tuple",
     "output_type": "error",
     "traceback": [
      "\u001b[0;31m---------------------------------------------------------------------------\u001b[0m",
      "\u001b[0;31mTypeError\u001b[0m                                 Traceback (most recent call last)",
      "\u001b[1;32m/Users/johnnybui/repos/ai534-projects/ia4/ia4.ipynb Cell 10\u001b[0m in \u001b[0;36m<cell line: 4>\u001b[0;34m()\u001b[0m\n\u001b[1;32m      <a href='vscode-notebook-cell:/Users/johnnybui/repos/ai534-projects/ia4/ia4.ipynb#X12sZmlsZQ%3D%3D?line=0'>1</a>\u001b[0m \u001b[39mfrom\u001b[39;00m \u001b[39msklearn\u001b[39;00m\u001b[39m.\u001b[39;00m\u001b[39mcluster\u001b[39;00m \u001b[39mimport\u001b[39;00m KMeans\n\u001b[1;32m      <a href='vscode-notebook-cell:/Users/johnnybui/repos/ai534-projects/ia4/ia4.ipynb#X12sZmlsZQ%3D%3D?line=1'>2</a>\u001b[0m \u001b[39mfrom\u001b[39;00m \u001b[39msklearn\u001b[39;00m\u001b[39m.\u001b[39;00m\u001b[39mmetrics\u001b[39;00m \u001b[39mimport\u001b[39;00m adjusted_rand_score, normalized_mutual_info_score\n\u001b[0;32m----> <a href='vscode-notebook-cell:/Users/johnnybui/repos/ai534-projects/ia4/ia4.ipynb#X12sZmlsZQ%3D%3D?line=3'>4</a>\u001b[0m val_df \u001b[39m=\u001b[39m pd\u001b[39m.\u001b[39mDataFrame(data\u001b[39m=\u001b[39m{\u001b[39m\"\u001b[39m\u001b[39membeddings\u001b[39m\u001b[39m\"\u001b[39m:d150embd, \u001b[39m\"\u001b[39m\u001b[39mbaseWord\u001b[39m\u001b[39m\"\u001b[39m: d150wrds[:,\u001b[39m0\u001b[39;49m], \u001b[39m\"\u001b[39m\u001b[39mcluster\u001b[39m\u001b[39m\"\u001b[39m:d150wrds[:,\u001b[39m1\u001b[39m]})\n\u001b[1;32m      <a href='vscode-notebook-cell:/Users/johnnybui/repos/ai534-projects/ia4/ia4.ipynb#X12sZmlsZQ%3D%3D?line=5'>6</a>\u001b[0m purityScore \u001b[39m=\u001b[39m []\n\u001b[1;32m      <a href='vscode-notebook-cell:/Users/johnnybui/repos/ai534-projects/ia4/ia4.ipynb#X12sZmlsZQ%3D%3D?line=6'>7</a>\u001b[0m randScore \u001b[39m=\u001b[39m []\n",
      "\u001b[0;31mTypeError\u001b[0m: list indices must be integers or slices, not tuple"
     ]
    }
   ],
   "source": [
    "from sklearn.cluster import KMeans\n",
    "from sklearn.metrics import adjusted_rand_score, normalized_mutual_info_score\n",
    "\n",
    "val_df = pd.DataFrame(data={\"embeddings\":d150embd, \"baseWord\": d150wrds[:,0], \"cluster\":d150wrds[:,1]})\n",
    "\n",
    "purityScore = []\n",
    "randScore = []\n",
    "inertiaScore = []\n",
    "mutualInfoScore = []\n",
    "\n",
    "kRange = [x for x in range(2,21)]\n",
    "\n",
    "for k in kRange:\n",
    "    kmeans = KMeans(n_clusters=k).fit(d150embd)\n",
    "    predsLabels = kmeans.labels_\n",
    "    purityScore.append(None) # Need to implement this\n",
    "    randScore.append(adjusted_rand_score(d150wrds[:,1], predsLabels))\n",
    "    inertiaScore.append(kmeans.inertia_)\n",
    "    mutualInfoScore.append(normalized_mutual_info_score(d150wrds[:,1], predsLabels))"
   ]
  },
  {
   "cell_type": "code",
   "execution_count": null,
   "metadata": {},
   "outputs": [],
   "source": [
    "plt.figure(figsize=(10,10))\n",
    "plt.subplot(2,2,1)\n",
    "plt.plot(kRange, randScore)\n",
    "plt.title(\"Rand Score\")\n",
    "plt.subplot(2,2,2)\n",
    "plt.plot(kRange, inertiaScore)\n",
    "plt.title(\"Inertia\")\n",
    "plt.subplot(2,2,3)\n",
    "plt.plot(kRange, mutualInfoScore)\n",
    "plt.title(\"Mutual Info Score\")\n",
    "#plt.subplot(2,2,4)\n",
    "#plt.plot(kRange, purityScore)\n",
    "#plt.title(\"Purity Score\")\n",
    "plt.show()"
   ]
  },
  {
   "cell_type": "code",
   "execution_count": null,
   "metadata": {},
   "outputs": [],
   "source": [
    "# Not required but thought it could be interesting to see the difference of how they were clustered\n",
    "# Below is PCA but colored by the labels from kmeans clusters\n",
    "plt.figure(figsize=(8,8))\n",
    "plt.subplot(2,1,1)\n",
    "scatter = plt.scatter(X_2d[:, 0], X_2d[:, 1], \n",
    "                      c=np.asarray(GV_label[:,1], dtype=int), cmap=\"Set1\")\n",
    "plt.legend(handles=scatter.legend_elements()[0], labels=seed_words)\n",
    "plt.title(\"PCA colored by Kmeans\")\n",
    "plt.ylabel(\"d2\")\n",
    "plt.xlabel(\"d1\")\n",
    "plt.show()\n",
    "\n",
    "plt.figure(figsize=(8,8))\n",
    "plt.subplot(2,1,2)\n",
    "kTmp = KMeans(n_clusters=8).fit(GV_emb)\n",
    "scatter = plt.scatter(X_2d[:, 0], X_2d[:, 1], c=kTmp.labels_, cmap=\"Set1\")\n",
    "plt.legend(handles=scatter.legend_elements()[0], labels=list(np.arange(0,8)))\n",
    "plt.title(\"PCA colored by Kmeans\")\n",
    "plt.ylabel(\"d2\")\n",
    "plt.xlabel(\"d1\")\n",
    "plt.show()"
   ]
  },
  {
   "cell_type": "markdown",
   "metadata": {},
   "source": [
    "# 2. Using Word Embeddings to Improve Classification"
   ]
  },
  {
   "cell_type": "code",
   "execution_count": 51,
   "metadata": {},
   "outputs": [],
   "source": [
    "df_train = pd.read_csv(\"IA3-train.csv\")\n",
    "df_val = pd.read_csv(\"IA3-dev.csv\")"
   ]
  },
  {
   "cell_type": "code",
   "execution_count": 8,
   "metadata": {},
   "outputs": [],
   "source": [
    "from sklearn.feature_extraction.text import TfidfVectorizer\n",
    "\n",
    "tfidfvectorizer = TfidfVectorizer(use_idf=True, lowercase=True)\n",
    "\n",
    "X_train_tfid = tfidfvectorizer.fit_transform(df_train['text'])\n",
    "# X_train = df_train['text']\n",
    "y_train_tfid = df_train['sentiment']\n",
    "\n",
    "X_val_tfid = tfidfvectorizer.transform(df_val['text']).toarray()\n",
    "y_val_tfid = df_val['sentiment']"
   ]
  },
  {
   "cell_type": "markdown",
   "metadata": {},
   "source": [
    "### Approach 1: weighted average of the embeddings"
   ]
  },
  {
   "cell_type": "code",
   "execution_count": 16,
   "metadata": {},
   "outputs": [],
   "source": [
    "GV_embedder = GloVe_Embedder(\"GloVe_Embedder_data.txt\")\n",
    "\n",
    "def average_embeddings(sentence):\n",
    "    emb = GV_embedder.embed_list(sentence.split())\n",
    "    return emb.sum(axis=0) / len(emb)\n",
    "\n",
    "X_train_aemb = []\n",
    "for tweet in df_train['text']:\n",
    "    avg_emb = average_embeddings(tweet)\n",
    "    X_train_aemb.append(avg_emb)\n",
    "    \n",
    "X_val_aemb = []\n",
    "for tweet in df_val['text']:\n",
    "    avg_emb = average_embeddings(tweet)\n",
    "    X_val_aemb.append(avg_emb)"
   ]
  },
  {
   "cell_type": "code",
   "execution_count": 17,
   "metadata": {},
   "outputs": [],
   "source": [
    "df_X_train_aemb = pd.DataFrame(X_train_aemb)\n",
    "# df_X_train_aemb = pd.concat([df_train, df_X_train_aemb], axis = 1)\n",
    "y_train = df_train['sentiment']\n",
    "\n",
    "df_X_val_aemb = pd.DataFrame(X_val_aemb)\n",
    "# df_X_val_aemb = pd.concat([df_val, df_X_val_aemb], axis = 1)\n",
    "y_val = df_val['sentiment']"
   ]
  },
  {
   "cell_type": "code",
   "execution_count": 18,
   "metadata": {},
   "outputs": [
    {
     "name": "stdout",
     "output_type": "stream",
     "text": [
      "Training on c = 0.0001\n",
      "Training on c = 0.001\n",
      "Training on c = 0.01\n",
      "Training on c = 0.1\n",
      "Training on c = 1\n",
      "Training on c = 10\n"
     ]
    },
    {
     "name": "stderr",
     "output_type": "stream",
     "text": [
      "/Users/johnnybui/opt/miniconda3/envs/tf/lib/python3.9/site-packages/sklearn/svm/_base.py:301: ConvergenceWarning: Solver terminated early (max_iter=25000).  Consider pre-processing your data with StandardScaler or MinMaxScaler.\n",
      "  warnings.warn(\n"
     ]
    },
    {
     "name": "stdout",
     "output_type": "stream",
     "text": [
      "Training on c = 100\n"
     ]
    },
    {
     "name": "stderr",
     "output_type": "stream",
     "text": [
      "/Users/johnnybui/opt/miniconda3/envs/tf/lib/python3.9/site-packages/sklearn/svm/_base.py:301: ConvergenceWarning: Solver terminated early (max_iter=25000).  Consider pre-processing your data with StandardScaler or MinMaxScaler.\n",
      "  warnings.warn(\n"
     ]
    },
    {
     "name": "stdout",
     "output_type": "stream",
     "text": [
      "Training on c = 1000\n"
     ]
    },
    {
     "name": "stderr",
     "output_type": "stream",
     "text": [
      "/Users/johnnybui/opt/miniconda3/envs/tf/lib/python3.9/site-packages/sklearn/svm/_base.py:301: ConvergenceWarning: Solver terminated early (max_iter=25000).  Consider pre-processing your data with StandardScaler or MinMaxScaler.\n",
      "  warnings.warn(\n"
     ]
    },
    {
     "name": "stdout",
     "output_type": "stream",
     "text": [
      "Training on c = 10000\n"
     ]
    },
    {
     "name": "stderr",
     "output_type": "stream",
     "text": [
      "/Users/johnnybui/opt/miniconda3/envs/tf/lib/python3.9/site-packages/sklearn/svm/_base.py:301: ConvergenceWarning: Solver terminated early (max_iter=25000).  Consider pre-processing your data with StandardScaler or MinMaxScaler.\n",
      "  warnings.warn(\n"
     ]
    }
   ],
   "source": [
    "from sklearn.svm import SVC\n",
    "\n",
    "def trainSVM(X_train, y_train, X_val, y_val, c, kernel, deg=3):\n",
    "    \"\"\"\n",
    "    Description: scikit learn linearSVC wrapper\n",
    "    Param:\n",
    "        X_train  [in]: training data\n",
    "        y_train  [in]: training label\n",
    "        X_val    [in]: validation data\n",
    "        y_val    [in]: validation label\n",
    "        c        [in]: Regularization parameter. The strength of the \n",
    "                       regularization is inversely proportional to C. Must be \n",
    "                       strictly positive.\n",
    "        kernel   [in]: Kernel type for SVC\n",
    "        deg      [in]: degree (only for poly kernel) - if not poly, this is \n",
    "                       ignored (default param set to sklearn default = 3)\n",
    "    Return: training accuracy, validation accuracy, and number of SV's (respectively)\n",
    "    \"\"\"\n",
    "    n_train = X_train.shape[0]\n",
    "    n_val = X_val.shape[0]\n",
    "    \n",
    "    svm = SVC(C=c, kernel=kernel, degree=deg, max_iter=25000)\n",
    "    svm.fit(X_train, y_train)\n",
    "    \n",
    "    y_pred_train = svm.predict(X_train)\n",
    "    y_pred_val = svm.predict(X_val)\n",
    "    \n",
    "    acc_train = (n_train - np.count_nonzero(y_pred_train - y_train)) / n_train\n",
    "    acc_val = (n_val - np.count_nonzero(y_pred_val - y_val)) / n_val\n",
    "    \n",
    "    return acc_train, acc_val, svm.n_support_\n",
    "\n",
    "# Define initial c values\n",
    "cVals = [10**i for i in range(-4,5)]\n",
    "\n",
    "acc_train = {}\n",
    "acc_val = {}\n",
    "nSVs = {}\n",
    "    \n",
    "for c in cVals:\n",
    "    print(\"Training on c =\", c)\n",
    "    acc_train[c], acc_val[c], nSVs[c] = trainSVM(df_X_train_aemb, y_train, df_X_val_aemb, y_val, c, \"linear\")"
   ]
  },
  {
   "cell_type": "code",
   "execution_count": 19,
   "metadata": {},
   "outputs": [
    {
     "data": {
      "image/png": "[encoded data removed]",
      "text/plain": [
       "<Figure size 1008x504 with 1 Axes>"
      ]
     },
     "metadata": {
      "needs_background": "light"
     },
     "output_type": "display_data"
    }
   ],
   "source": [
    "def plotAcc(exp, tAcc, vAcc, title, pName):\n",
    "    '''\n",
    "    Plot the accuracy for train and validation data set for SVM\n",
    "    '''\n",
    "    fig = plt.figure(figsize=(14,7))\n",
    "    plt.plot(exp, list(tAcc.values()), label=\"Training\")\n",
    "    plt.plot(exp, list(vAcc.values()), label=\"Validation\")\n",
    "    \n",
    "    plt.xlabel(\"i\")\n",
    "    plt.ylabel(\"Accuracy\")\n",
    "    plt.title(\"Accuracy for c = 10^i | \" + title)\n",
    "    plt.legend()\n",
    "    plt.savefig(pName)\n",
    "    return\n",
    "\n",
    "xrange = range(-4,5)\n",
    "plotAcc(xrange, acc_train, acc_val, \"Linear SVM\", \"lsvmAcc.jpg\")"
   ]
  },
  {
   "cell_type": "code",
   "execution_count": 20,
   "metadata": {},
   "outputs": [
    {
     "name": "stdout",
     "output_type": "stream",
     "text": [
      "{0.0001: 0.7904, 0.001: 0.7904, 0.01: 0.812, 0.1: 0.8724, 1: 0.8848, 10: 0.8848, 100: 0.7588, 1000: 0.6928, 10000: 0.554}\n"
     ]
    }
   ],
   "source": [
    "print(acc_val)"
   ]
  },
  {
   "cell_type": "markdown",
   "metadata": {},
   "source": [
    "#### Using Gensim"
   ]
  },
  {
   "cell_type": "code",
   "execution_count": null,
   "metadata": {},
   "outputs": [],
   "source": [
    "import gensim\n",
    "from collections import defaultdict\n",
    "\n",
    "model = gensim.models.Word2Vec(X, size=100)\n",
    "w2v = dict(zip(model.wv.index2word, model.wv.syn0))\n",
    "\n",
    "class TfidfEmbeddingVectorizer(object):\n",
    "    def __init__(self, word2vec):\n",
    "        self.word2vec = word2vec\n",
    "        self.word2weight = None\n",
    "        self.dim = len(word2vec.itervalues().next())\n",
    "\n",
    "    def fit(self, X, y):\n",
    "        tfidf = TfidfVectorizer(analyzer=lambda x: x)\n",
    "        tfidf.fit(X)\n",
    "        # if a word was never seen - it must be at least as infrequent\n",
    "        # as any of the known words - so the default idf is the max of \n",
    "        # known idf's\n",
    "        max_idf = max(tfidf.idf_)\n",
    "        self.word2weight = defaultdict(\n",
    "            lambda: max_idf,\n",
    "            [(w, tfidf.idf_[i]) for w, i in tfidf.vocabulary_.items()])\n",
    "\n",
    "        return self\n",
    "\n",
    "    def transform(self, X):\n",
    "        return np.array([\n",
    "                np.mean([self.word2vec[w] * self.word2weight[w]\n",
    "                         for w in words if w in self.word2vec] or\n",
    "                        [np.zeros(self.dim)], axis=0)\n",
    "                for words in X\n",
    "            ])"
   ]
  },
  {
   "cell_type": "markdown",
   "metadata": {},
   "source": [
    "### Approach 2: Cluster the words in the vocabulary and represent each tweet using bag-of-word-clusters"
   ]
  },
  {
   "cell_type": "markdown",
   "metadata": {},
   "source": [
    "### Approach 3: Improve utilization of the GloVe embeddings"
   ]
  },
  {
   "cell_type": "code",
   "execution_count": 34,
   "metadata": {},
   "outputs": [
    {
     "name": "stdout",
     "output_type": "stream",
     "text": [
      "Warning: provided word is not part of the vocabulary!\n"
     ]
    },
    {
     "data": {
      "text/plain": [
       "array([0., 0., 0., 0., 0., 0., 0., 0., 0., 0., 0., 0., 0., 0., 0., 0., 0.,\n",
       "       0., 0., 0., 0., 0., 0., 0., 0., 0., 0., 0., 0., 0., 0., 0., 0., 0.,\n",
       "       0., 0., 0., 0., 0., 0., 0., 0., 0., 0., 0., 0., 0., 0., 0., 0., 0.,\n",
       "       0., 0., 0., 0., 0., 0., 0., 0., 0., 0., 0., 0., 0., 0., 0., 0., 0.,\n",
       "       0., 0., 0., 0., 0., 0., 0., 0., 0., 0., 0., 0., 0., 0., 0., 0., 0.,\n",
       "       0., 0., 0., 0., 0., 0., 0., 0., 0., 0., 0., 0., 0., 0., 0., 0., 0.,\n",
       "       0., 0., 0., 0., 0., 0., 0., 0., 0., 0., 0., 0., 0., 0., 0., 0., 0.,\n",
       "       0., 0., 0., 0., 0., 0., 0., 0., 0., 0., 0., 0., 0., 0., 0., 0., 0.,\n",
       "       0., 0., 0., 0., 0., 0., 0., 0., 0., 0., 0., 0., 0., 0., 0., 0., 0.,\n",
       "       0., 0., 0., 0., 0., 0., 0., 0., 0., 0., 0., 0., 0., 0., 0., 0., 0.,\n",
       "       0., 0., 0., 0., 0., 0., 0., 0., 0., 0., 0., 0., 0., 0., 0., 0., 0.,\n",
       "       0., 0., 0., 0., 0., 0., 0., 0., 0., 0., 0., 0., 0.])"
      ]
     },
     "execution_count": 34,
     "metadata": {},
     "output_type": "execute_result"
    }
   ],
   "source": [
    "GV_embedder.vocab_size\n",
    "\n",
    "GV_embedder.embed_str(\"\")"
   ]
  },
  {
   "cell_type": "code",
   "execution_count": null,
   "metadata": {},
   "outputs": [],
   "source": [
    "# from tensorflow.keras.layers.experimental.preprocessing import TextVectorization\n",
    "\n",
    "# def make_embedding_matrix(train_samples, val_samples, embeddings_index):\n",
    "#     \"\"\"\n",
    "#     This function computes the embedding matrix that will be used in the embedding layer\n",
    "    \n",
    "#     Parameters:\n",
    "#         train_samples: list of strings in the training dataset\n",
    "#         val_samples: list of strings in the validation dataset\n",
    "#         embeddings_index: Python dictionary with word embeddings\n",
    "    \n",
    "#     Returns:\n",
    "#         embedding_matrix: embedding matrix with the dimensions (num_tokens, embedding_dim), where num_tokens is the vocabulary of the input data, and emdebbing_dim is the number of components in the GloVe vectors (can be 50,100,200,300)\n",
    "#         vectorizer: TextVectorization layer      \n",
    "#     \"\"\"\n",
    "#      vectorizer = TextVectorization(max_tokens=30000, output_sequence_length=50)\n",
    "#     text_ds = tf.data.Dataset.from_tensor_slices(train_samples).batch(128)\n",
    "#     vectorizer.adapt(text_ds)\n",
    "    \n",
    "#     voc = vectorizer.get_vocabulary()\n",
    "#     word_index = dict(zip(voc, range(len(voc))))\n",
    "      \n",
    "#     num_tokens = len(voc)\n",
    "    \n",
    "#     hits = 0\n",
    "#     misses = 0\n",
    "\n",
    "# #   creating an embedding matrix\n",
    "#     embedding_dim = len(embeddings_index['the'])\n",
    "#     embedding_matrix = np.zeros((num_tokens, embedding_dim))\n",
    "#     for word, i in word_index.items():\n",
    "#         embedding_vector = embeddings_index.get(word)\n",
    "#         if embedding_vector is not None:\n",
    "#             # Words not found in embedding index will be all-zeros\n",
    "#             embedding_matrix[i] = embedding_vector\n",
    "#             hits += 1\n",
    "#         else:\n",
    "#             misses += 1\n",
    "# #     print(\"Converted %d words (%d misses)\" % (hits, misses))\n",
    "#     print(f\"Converted {hits} words ({misses} misses).\")\n",
    "\n",
    "#     return embedding_matrix, vectorizer"
   ]
  },
  {
   "cell_type": "markdown",
   "metadata": {},
   "source": [
    "### Approach 4: Clean the tweets"
   ]
  },
  {
   "cell_type": "code",
   "execution_count": 71,
   "metadata": {},
   "outputs": [],
   "source": [
    "from gensim.models import Word2Vec\n",
    "\n",
    "import re\n",
    "from string import punctuation\n",
    "\n",
    "from nltk.tokenize import word_tokenize\n",
    "\n",
    "\n",
    "df_train = pd.read_csv(\"IA3-train.csv\")\n",
    "df_val = pd.read_csv(\"IA3-dev.csv\")\n",
    "\n",
    "# Adapted from https://www.kaggle.com/code/artemzapara/twitter-feeds-classification-with-glove-embeddings/notebook\n",
    "def clean_text(text):\n",
    "    text = text.lower() # lowercase\n",
    "    text = re.sub('@\\w+ ', ' ', text)    # Remove \"@...\" which are not related to the sentiment\n",
    "    text = re.sub('[%s]' % re.escape(punctuation), '', text) # Remove punctuation\n",
    "    return text\n",
    "\n",
    "df_train_clean = df_train\n",
    "df_val_clean = df_val\n",
    "\n",
    "# Applying the cleaning function to both test and train datasets\n",
    "df_train_clean['text'] = df_train['text'].apply(lambda x: clean_text(x))\n",
    "df_val_clean['text'] = df_val['text'].apply(lambda x: clean_text(x))\n",
    "\n",
    "df_train_clean.to_csv(\"clean_tweet.csv\")\n",
    "\n",
    "X_train_aemb = []\n",
    "tweet_vocab = set()\n",
    "for tweet in df_train_clean['text']:\n",
    "    new_vocab = set(tweet.split())\n",
    "    avg_emb = average_embeddings(tweet)\n",
    "    X_train_aemb.append(avg_emb)\n",
    "    tweet_vocab = tweet_vocab.union(new_vocab)\n",
    "    \n",
    "X_val_aemb = []\n",
    "for tweet in df_val_clean['text']:\n",
    "    avg_emb = average_embeddings(tweet)\n",
    "    X_val_aemb.append(avg_emb)"
   ]
  },
  {
   "cell_type": "code",
   "execution_count": 70,
   "metadata": {},
   "outputs": [],
   "source": [
    "import csv\n",
    "\n",
    "with open(\"tweets_emb.csv\", \"w\") as f:\n",
    "    writer = csv.writer(f)\n",
    "    writer.writerows(X_train_aemb)"
   ]
  },
  {
   "cell_type": "code",
   "execution_count": 74,
   "metadata": {},
   "outputs": [
    {
     "ename": "TypeError",
     "evalue": "write() argument must be str, not set",
     "output_type": "error",
     "traceback": [
      "\u001b[0;31m---------------------------------------------------------------------------\u001b[0m",
      "\u001b[0;31mTypeError\u001b[0m                                 Traceback (most recent call last)",
      "\u001b[1;32m/Users/johnnybui/repos/ai534-projects/ia4/ia4.ipynb Cell 31\u001b[0m in \u001b[0;36m<cell line: 2>\u001b[0;34m()\u001b[0m\n\u001b[1;32m      <a href='vscode-notebook-cell:/Users/johnnybui/repos/ai534-projects/ia4/ia4.ipynb#X55sZmlsZQ%3D%3D?line=0'>1</a>\u001b[0m \u001b[39m# Find vocabulary of the tweets\u001b[39;00m\n\u001b[1;32m      <a href='vscode-notebook-cell:/Users/johnnybui/repos/ai534-projects/ia4/ia4.ipynb#X55sZmlsZQ%3D%3D?line=1'>2</a>\u001b[0m \u001b[39mwith\u001b[39;00m \u001b[39mopen\u001b[39m(\u001b[39m\"\u001b[39m\u001b[39mtweets_vocab.txt\u001b[39m\u001b[39m\"\u001b[39m, \u001b[39m\"\u001b[39m\u001b[39mw\u001b[39m\u001b[39m\"\u001b[39m) \u001b[39mas\u001b[39;00m f:\n\u001b[0;32m----> <a href='vscode-notebook-cell:/Users/johnnybui/repos/ai534-projects/ia4/ia4.ipynb#X55sZmlsZQ%3D%3D?line=2'>3</a>\u001b[0m     f\u001b[39m.\u001b[39;49mwrite(tweet_vocab)\n",
      "\u001b[0;31mTypeError\u001b[0m: write() argument must be str, not set"
     ]
    }
   ],
   "source": [
    "# Find vocabulary of the tweets\n",
    "with open(\"tweets_vocab.txt\", \"w\") as f:\n",
    "    f.write(tweet_vocab)\n",
    "\n",
    "# tweet_vocab\n"
   ]
  },
  {
   "cell_type": "code",
   "execution_count": 68,
   "metadata": {},
   "outputs": [
    {
     "name": "stdout",
     "output_type": "stream",
     "text": [
      "Training on c = 0.0001\n",
      "Training on c = 0.001\n",
      "Training on c = 0.01\n",
      "Training on c = 0.1\n",
      "Training on c = 1\n",
      "Training on c = 10\n"
     ]
    },
    {
     "name": "stderr",
     "output_type": "stream",
     "text": [
      "/Users/johnnybui/opt/miniconda3/envs/tf/lib/python3.9/site-packages/sklearn/svm/_base.py:301: ConvergenceWarning: Solver terminated early (max_iter=25000).  Consider pre-processing your data with StandardScaler or MinMaxScaler.\n",
      "  warnings.warn(\n"
     ]
    },
    {
     "name": "stdout",
     "output_type": "stream",
     "text": [
      "Training on c = 100\n"
     ]
    },
    {
     "name": "stderr",
     "output_type": "stream",
     "text": [
      "/Users/johnnybui/opt/miniconda3/envs/tf/lib/python3.9/site-packages/sklearn/svm/_base.py:301: ConvergenceWarning: Solver terminated early (max_iter=25000).  Consider pre-processing your data with StandardScaler or MinMaxScaler.\n",
      "  warnings.warn(\n"
     ]
    },
    {
     "name": "stdout",
     "output_type": "stream",
     "text": [
      "Training on c = 1000\n"
     ]
    },
    {
     "name": "stderr",
     "output_type": "stream",
     "text": [
      "/Users/johnnybui/opt/miniconda3/envs/tf/lib/python3.9/site-packages/sklearn/svm/_base.py:301: ConvergenceWarning: Solver terminated early (max_iter=25000).  Consider pre-processing your data with StandardScaler or MinMaxScaler.\n",
      "  warnings.warn(\n"
     ]
    },
    {
     "name": "stdout",
     "output_type": "stream",
     "text": [
      "Training on c = 10000\n"
     ]
    },
    {
     "name": "stderr",
     "output_type": "stream",
     "text": [
      "/Users/johnnybui/opt/miniconda3/envs/tf/lib/python3.9/site-packages/sklearn/svm/_base.py:301: ConvergenceWarning: Solver terminated early (max_iter=25000).  Consider pre-processing your data with StandardScaler or MinMaxScaler.\n",
      "  warnings.warn(\n"
     ]
    }
   ],
   "source": [
    "for c in cVals:\n",
    "    print(\"Training on c =\", c)\n",
    "    acc_train[c], acc_val[c], nSVs[c] = trainSVM(df_X_train_aemb, y_train, df_X_val_aemb, y_val, c, \"linear\")"
   ]
  },
  {
   "cell_type": "code",
   "execution_count": 66,
   "metadata": {},
   "outputs": [
    {
     "name": "stdout",
     "output_type": "stream",
     "text": [
      "{0.0001: 0.7904, 0.001: 0.7904, 0.01: 0.812, 0.1: 0.8724, 1: 0.8848, 10: 0.8848, 100: 0.7588, 1000: 0.6928, 10000: 0.554}\n"
     ]
    },
    {
     "data": {
      "image/png": "[encoded data removed]",
      "text/plain": [
       "<Figure size 1008x504 with 1 Axes>"
      ]
     },
     "metadata": {
      "needs_background": "light"
     },
     "output_type": "display_data"
    }
   ],
   "source": [
    "print(acc_val)\n",
    "plotAcc(xrange, acc_train, acc_val, \"Linear SVM\", \"lsvmAcc.jpg\")"
   ]
  },
  {
   "cell_type": "markdown",
   "metadata": {},
   "source": [
    "### Visualize"
   ]
  },
  {
   "cell_type": "code",
   "execution_count": null,
   "metadata": {},
   "outputs": [],
   "source": [
    "pca = PCA(n_components=2)\n",
    "X_2d = pca.fit_transform(d150embd)\n",
    "d150wrds = np.asarray(d150wrds)\n",
    "plot_2d_cluster(X_2d, d150wrds, \"PCA on 150 Clustered Words\")"
   ]
  }
 ],
 "metadata": {
  "kernelspec": {
   "display_name": "Python 3.9.13 ('tf')",
   "language": "python",
   "name": "python3"
  },
  "language_info": {
   "codemirror_mode": {
    "name": "ipython",
    "version": 3
   },
   "file_extension": ".py",
   "mimetype": "text/x-python",
   "name": "python",
   "nbconvert_exporter": "python",
   "pygments_lexer": "ipython3",
   "version": "3.9.13"
  },
  "vscode": {
   "interpreter": {
    "hash": "dbd8fc006ca304d4772c22b1628311ead1ebc7b12201f7a9c0d4d60a6ee8785f"
   }
  }
 },
 "nbformat": 4,
 "nbformat_minor": 2
}
