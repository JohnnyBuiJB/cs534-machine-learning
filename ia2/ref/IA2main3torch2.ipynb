{
 "cells": [
  {
   "cell_type": "code",
   "execution_count": 1,
   "metadata": {},
   "outputs": [],
   "source": [
    "import pandas as pd\n",
    "import numpy as np\n",
    "import torch\n",
    "import os\n",
    "import datetime\n",
    "import math\n",
    "import matplotlib.pyplot as plt\n",
    "import random\n",
    "__current_path__ = \"/Users/kyle/Documents/AI534/IA2\"\n",
    "__current_year__ = datetime.date.today().year\n",
    "global global_training_data\n",
    "np.random.seed(42)"
   ]
  },
  {
   "cell_type": "code",
   "execution_count": null,
   "metadata": {},
   "outputs": [],
   "source": [
    "def load_data(path):\n",
    "    # Your code here:\n",
    "    loaded_data = pd.read_csv(path)\n",
    "    return loaded_data\n",
    "def sigmoid(x):\n",
    "    return (1 /(1+math.exp(-x)))\n",
    "def preprocess_data(data):\n",
    "    # Your code here:\n",
    "    normalize_list = [\"Age\", \"Annual_Premium\", \"Vintage\"]\n",
    "    for target_column in normalize_list:\n",
    "        mean = global_training_data[target_column].mean()\n",
    "        s_d = global_training_data[target_column].std()\n",
    "        for index, each_row in enumerate(data[target_column]):\n",
    "                data.loc[index, target_column] = (each_row - mean) / s_d\n",
    "    preprocessed_data = data\n",
    "    return preprocessed_data"
   ]
  },
  {
   "cell_type": "code",
   "execution_count": null,
   "metadata": {},
   "outputs": [],
   "source": [
    "def predict_proba(X, weights):\n",
    "    vsigmoid = np.vectorize(sigmoid)\n",
    "    return vsigmoid(X.dot(weights.T))\n",
    "def predict(X, weights, threhold):\n",
    "    vsigmoid = np.vectorize(sigmoid)\n",
    "    return np.where((vsigmoid(X.dot(weights.T)))>threhold,1,0)"
   ]
  },
  {
   "cell_type": "code",
   "execution_count": null,
   "metadata": {},
   "outputs": [],
   "source": [
    "def check_sparsity(data, threshold=math.pow(10, -6)):\n",
    "    if threshold == 0:\n",
    "        return np.count_nonzero(data == threshold)\n",
    "    else:\n",
    "        return np.count_nonzero(abs(data) < threshold)"
   ]
  },
  {
   "cell_type": "code",
   "execution_count": null,
   "metadata": {},
   "outputs": [],
   "source": [
    "def LR_L2_train(train_data, val_data, lambda_):\n",
    "    data = train_data\n",
    "    valid = val_data\n",
    "    device = torch.device('mps')\n",
    "    vsigmoid = torch.nn.Sigmoid()\n",
    "    labels = data.iloc[:, -1:]\n",
    "    data = data.iloc[:, :-1]\n",
    "    valid_labels = valid.iloc[:, -1:]\n",
    "    valid = valid.iloc[:, :-1]\n",
    "    weights = []\n",
    "    N = len(data)\n",
    "    N_valid = len(valid)\n",
    "    for j in range(0,len(data.columns)):\n",
    "        weights.append(random.uniform(-1, 1))\n",
    "    weights = torch.tensor([weights],dtype=torch.float32,device=device)\n",
    "    X = torch.tensor(data.values,dtype=torch.float32,device=device)\n",
    "    Y = torch.tensor(labels.values,dtype=torch.float32,device=device)\n",
    "    X_valid = torch.tensor(valid.values,dtype=torch.float32,device=device)\n",
    "    Y_valid = torch.tensor(valid_labels.values,dtype=torch.float32,device=device)\n",
    "    # Train Model\n",
    "    for lr in [-2.709999999999987]:\n",
    "        lr = math.pow(10,lr)\n",
    "        # wandb.init(project=\"IA2_Lambda4\", entity=\"ai543gp55\")\n",
    "        # wandb.run.name = str(lambda_)\n",
    "        # # wandb.run.name = 'main'\n",
    "        # cfg = wandb.config\n",
    "        # cfg.update({\"lr\" : lr, \"l1_size\" : 0, \"l2_size\": lambda_})\n",
    "\n",
    "        epoch = 0\n",
    "        acc_train = []\n",
    "        acc_valid = []\n",
    "        min_MSE = 1000\n",
    "        last_weight_update = 0\n",
    "        while True:\n",
    "            # Batch Logistic Regression\n",
    "            gradient_t = Y - vsigmoid(torch.tensordot(X,weights.T,dims=1))\n",
    "            gradient = torch.mul(torch.tensordot(X.T,gradient_t,dims=1),(lr/N))\n",
    "            weights += gradient.T\n",
    "            weights.T[1:] -= torch.mul(weights.T[1:],(lr*lambda_))\n",
    "            # gradient_t = Y - vsigmoid(X.dot(weights.T))\n",
    "            # gradient = (X.T.dot(gradient_t)).dot(lr/N)\n",
    "            # # Loss\n",
    "            # loss = (- Y.T.dot(np.log(vsigmoid(X.dot(weights.T)))) - (np.subtract(1,Y.T).dot(np.log(np.subtract(1,(vsigmoid(X.dot(weights.T)))))))).dot(1/N) + ((np.sum(np.power(weights.T[1:],2)))*lambda_)\n",
    "            loss = torch.mul(- torch.tensordot(Y.T,(torch.log(vsigmoid(torch.tensordot(X,weights.T,dims=1)))),dims=1) - torch.tensordot(torch.subtract(1,Y.T),(torch.log(torch.subtract(1,(vsigmoid(torch.tensordot(X,weights.T,dims=1))))))),(1/N)) + ((torch.sum(torch.pow(weights.T[1:],2)))*lambda_)\n",
    "            # # Converge at Threshold\n",
    "            # current_gradient = np.linalg.norm(np.subtract((gradient_t.dot(1/N)),(lambda_*weights)))\n",
    "            current_gradient = torch.norm(torch.subtract((torch.mul(gradient_t,(1/N))),torch.mul(lambda_,weights)))\n",
    "            if current_gradient < math.pow(10,-4):\n",
    "                print(\"Converge with \",min_MSE,\" At Epoch: \",epoch)\n",
    "                break\n",
    "            if epoch > 1000:\n",
    "                print(\"Stop Training with \",min_MSE,\" At Epoch: \",epoch, \" With LR: \", math.pow(10,-lr))\n",
    "                break\n",
    "            # if current_gradient < min_MSE and current_gradient != 0:\n",
    "            #     min_MSE = current_gradient\n",
    "            #     last_weight_update = 0\n",
    "            #     # print(min_MSE,\" At Epoch: \",epoch)\n",
    "            # weights += gradient.T\n",
    "            # # Apply L2 Norm\n",
    "            # weights.T[1:] -= weights.T[1:].dot(lr*lambda_)\n",
    "            \n",
    "            # # Compute Accuracy For Training\n",
    "            # correct_pred = (predict(X, weights, 0.5) == Y)\n",
    "            # acc_train_i = (np.sum(correct_pred)/N)*100\n",
    "            # # Compute Accuracy For Validation\n",
    "            # correct_pred = (predict(X_valid, weights, 0.5) == Y_valid)\n",
    "            # acc_valid_i = (np.sum(correct_pred)/N_valid)*100\n",
    "            # acc_train.append(acc_train_i)\n",
    "            # acc_valid.append(acc_valid_i)\n",
    "            epoch += 1\n",
    "            last_weight_update += 1\n",
    "            # wandb.log({\"epoch\": epoch, \"lambda\": lambda_,\"sparsity\": check_sparsity(weights) , \"loss\": loss, \"gradient\": current_gradient, \"weights\": weights, \"Training Accuracy\": acc_train_i, \"Validation Accuracy\": acc_valid_i})\n",
    "        # wandb.finish()\n",
    "    # return weights, acc_train, acc_valid\n",
    "    return weights.cpu().numpy()\n",
    "\n",
    "\n"
   ]
  },
  {
   "cell_type": "code",
   "execution_count": null,
   "metadata": {},
   "outputs": [],
   "source": [
    "training_data = load_data(__current_path__+\"/IA2-train.csv\")\n",
    "training_data_noisy = load_data(__current_path__+\"/IA2-train-noisy.csv\")\n",
    "validation_data = load_data(__current_path__+\"/IA2-dev.csv\")\n",
    "global_training_data = training_data.copy(deep=True)\n",
    "preprocess_data(training_data)\n",
    "preprocess_data(training_data_noisy)\n",
    "preprocess_data(validation_data)"
   ]
  },
  {
   "cell_type": "code",
   "execution_count": null,
   "metadata": {},
   "outputs": [],
   "source": [
    "result = []\n",
    "for i in np.arange(-12,6,1):\n",
    "    # weights, acc_train, acc_valid = LR_L2_train(training_data,validation_data,math.pow(10,i))\n",
    "    weights = LR_L2_train(training_data,validation_data,math.pow(10,i))\n",
    "    # result.append([weights, acc_train, acc_valid,math.pow(10,i)])\n",
    "    result.append([weights,math.pow(10,i)])"
   ]
  }
 ],
 "metadata": {
  "kernelspec": {
   "display_name": "Python 3.8.5 ('base')",
   "language": "python",
   "name": "python3"
  },
  "language_info": {
   "codemirror_mode": {
    "name": "ipython",
    "version": 3
   },
   "file_extension": ".py",
   "mimetype": "text/x-python",
   "name": "python",
   "nbconvert_exporter": "python",
   "pygments_lexer": "ipython3",
   "version": "3.8.5"
  },
  "orig_nbformat": 4,
  "vscode": {
   "interpreter": {
    "hash": "15a1e72ba773099527125ed58d42668c54ab9c98f183bb59c28e4748fcdd480d"
   }
  }
 },
 "nbformat": 4,
 "nbformat_minor": 2
}
