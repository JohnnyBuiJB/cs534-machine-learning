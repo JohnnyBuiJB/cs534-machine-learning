{
 "cells": [
  {
   "cell_type": "code",
   "execution_count": 11,
   "metadata": {},
   "outputs": [
    {
     "name": "stdout",
     "output_type": "stream",
     "text": [
      "Prior mean: 0.5\n"
     ]
    },
    {
     "ename": "NameError",
     "evalue": "name 'Y' is not defined",
     "output_type": "error",
     "traceback": [
      "\u001b[0;31m---------------------------------------------------------------------------\u001b[0m",
      "\u001b[0;31mNameError\u001b[0m                                 Traceback (most recent call last)",
      "\u001b[1;32m/Users/johnnybui/repos/cs534-machine-learning/wa1/wa1.ipynb Cell 1\u001b[0m in \u001b[0;36m<cell line: 46>\u001b[0;34m()\u001b[0m\n\u001b[1;32m     <a href='vscode-notebook-cell:/Users/johnnybui/repos/cs534-machine-learning/wa1/wa1.ipynb#W0sZmlsZQ%3D%3D?line=42'>43</a>\u001b[0m ax\u001b[39m.\u001b[39mlegend([\u001b[39m'\u001b[39m\u001b[39mPrior\u001b[39m\u001b[39m'\u001b[39m]);\n\u001b[1;32m     <a href='vscode-notebook-cell:/Users/johnnybui/repos/cs534-machine-learning/wa1/wa1.ipynb#W0sZmlsZQ%3D%3D?line=44'>45</a>\u001b[0m \u001b[39m# Find the hyperparameters of the posterior\u001b[39;00m\n\u001b[0;32m---> <a href='vscode-notebook-cell:/Users/johnnybui/repos/cs534-machine-learning/wa1/wa1.ipynb#W0sZmlsZQ%3D%3D?line=45'>46</a>\u001b[0m a1_hat \u001b[39m=\u001b[39m a1 \u001b[39m+\u001b[39m Y\u001b[39m.\u001b[39msum()\n\u001b[1;32m     <a href='vscode-notebook-cell:/Users/johnnybui/repos/cs534-machine-learning/wa1/wa1.ipynb#W0sZmlsZQ%3D%3D?line=46'>47</a>\u001b[0m a2_hat \u001b[39m=\u001b[39m a2 \u001b[39m+\u001b[39m nobs \u001b[39m-\u001b[39m Y\u001b[39m.\u001b[39msum()\n\u001b[1;32m     <a href='vscode-notebook-cell:/Users/johnnybui/repos/cs534-machine-learning/wa1/wa1.ipynb#W0sZmlsZQ%3D%3D?line=48'>49</a>\u001b[0m \u001b[39m# Posterior Mean\u001b[39;00m\n",
      "\u001b[0;31mNameError\u001b[0m: name 'Y' is not defined"
     ]
    },
    {
     "data": {
      "image/png": "[encoded data removed]",
      "text/plain": [
       "<Figure size 1000x400 with 1 Axes>"
      ]
     },
     "metadata": {},
     "output_type": "display_data"
    }
   ],
   "source": [
    "%matplotlib inline\n",
    "import numpy as np\n",
    "import pandas as pd\n",
    "# import statsmodels.api as sm\n",
    "import sympy as sp\n",
    "# import pymc\n",
    "import matplotlib.pyplot as plt\n",
    "import matplotlib.gridspec as gridspec\n",
    "from mpl_toolkits.mplot3d import Axes3D\n",
    "from scipy import stats\n",
    "from scipy.special import gamma\n",
    "\n",
    "from sympy.interactive import printing\n",
    "printing.init_printing()\n",
    "\n",
    "\n",
    "\n",
    "t, T, s = sp.symbols('theta, T, s')\n",
    "\n",
    "# Create the function symbolically\n",
    "likelihood = (t**s)*(1-t)**(T-s)\n",
    "\n",
    "# Convert it to a Numpy-callable function\n",
    "_likelihood = sp.lambdify((t,T,s), likelihood, modules='numpy')\n",
    "\n",
    "# For alpha_1 = alpha_2 = 1, the Beta distribution\n",
    "# degenerates to a uniform distribution\n",
    "a1 = 1\n",
    "a2 = 1\n",
    "\n",
    "# Prior Mean\n",
    "prior_mean = a1 / (a1 + a2)\n",
    "print('Prior mean:', prior_mean)\n",
    "\n",
    "# Plot the prior\n",
    "fig = plt.figure(figsize=(10,4))\n",
    "ax = fig.add_subplot(111)\n",
    "X = np.linspace(0,1, 1000)\n",
    "ax.plot(X, stats.beta(a1, a2).pdf(X), 'g');\n",
    "\n",
    "# Cleanup\n",
    "ax.set(title='Prior Distribution', ylim=(0,12))\n",
    "ax.legend(['Prior']);\n",
    "\n",
    "# Find the hyperparameters of the posterior\n",
    "a1_hat = a1 + Y.sum()\n",
    "a2_hat = a2 + nobs - Y.sum()\n",
    "\n",
    "# Posterior Mean\n",
    "post_mean = a1_hat / (a1_hat + a2_hat)\n",
    "print('Posterior Mean (Analytic):', post_mean)\n",
    "\n",
    "# Plot the analytic posterior\n",
    "fig = plt.figure(figsize=(10,4))\n",
    "ax = fig.add_subplot(111)\n",
    "X = np.linspace(0,1, 1000)\n",
    "ax.plot(X, stats.beta(a1_hat, a2_hat).pdf(X), 'r')\n",
    "\n",
    "# Plot the prior\n",
    "ax.plot(X, stats.beta(a1, a2).pdf(X), 'g')\n",
    "\n",
    "# Cleanup\n",
    "ax.set(title='Posterior Distribution (Analytic)', ylim=(0,12))\n",
    "ax.legend(['Posterior (Analytic)', 'Prior'])"
   ]
  }
 ],
 "metadata": {
  "kernelspec": {
   "display_name": "Python 3.8.5 ('base')",
   "language": "python",
   "name": "python3"
  },
  "language_info": {
   "codemirror_mode": {
    "name": "ipython",
    "version": 3
   },
   "file_extension": ".py",
   "mimetype": "text/x-python",
   "name": "python",
   "nbconvert_exporter": "python",
   "pygments_lexer": "ipython3",
   "version": "3.8.5"
  },
  "orig_nbformat": 4,
  "vscode": {
   "interpreter": {
    "hash": "15a1e72ba773099527125ed58d42668c54ab9c98f183bb59c28e4748fcdd480d"
   }
  }
 },
 "nbformat": 4,
 "nbformat_minor": 2
}
